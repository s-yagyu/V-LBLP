{
    "cells": [
        {
            "cell_type": "markdown",
            "metadata": {},
            "source": [
                "###  Data replot \n"
            ]
        },
        {
            "cell_type": "code",
            "execution_count": null,
            "metadata": {},
            "outputs": [],
            "source": [
                "from pathlib import Path\n",
                "\n",
                "import matplotlib.pyplot as plt\n",
                "import mpl_toolkits.axes_grid1\n",
                "from mpl_toolkits.mplot3d import Axes3D\n",
                "\n",
                "import numpy as np\n",
                "import pandas as pd\n",
                "from PIL import Image\n",
                "\n",
                "\n",
                "from qfit import make_angle_file as maf\n",
                "from qfit import fit_q\n",
                "from qfit import re_analysis as rean\n",
                "from qfit import re_plot as replt\n",
                "from qfit import multiplot as mlplt\n",
                "from qfit import image_treat as imt\n",
                "from qfit import file_folder_trans as fft"
            ]
        },
        {
            "cell_type": "code",
            "execution_count": null,
            "metadata": {},
            "outputs": [],
            "source": [
                "import warnings\n",
                "warnings.simplefilter('ignore')\n",
                "# warnings.resetwarnings()\n",
                "# warnings.simplefilter('ignore', FutureWarning)\n",
                "%load_ext autoreload\n",
                "%autoreload 2"
            ]
        },
        {
            "cell_type": "code",
            "execution_count": null,
            "metadata": {},
            "outputs": [],
            "source": [
                "# plt.rcParams[\"font.size\"] = 18\n",
                "# plt.rcParams['font.family']= 'sans-serif'\n",
                "# plt.rcParams['font.sans-serif'] = ['Arial']"
            ]
        },
        {
            "cell_type": "code",
            "execution_count": null,
            "metadata": {},
            "outputs": [],
            "source": [
                "# RC triming and ratation files\n",
                "# rot_tr=['gauss_fit/rot_tr_gaussian_220614_100214','gauss_fit/rot_tr_gaussian_220614_110511','gauss_fit/rot_tr_gaussian_220614_104721']\n",
                "rot_tr=[r'',r'',]"
            ]
        },
        {
            "cell_type": "code",
            "execution_count": null,
            "metadata": {},
            "outputs": [],
            "source": [
                "# load RC Plot\n",
                "# return -> {'c':peak original, 'h':height original , 'w':width original (FWHM), \n",
                "#            'ct':peak - average [deg], 'ht':(height - average) /average, 'wt':width [deg] }  \n",
                "# load data include nan value.  If calculation of max, min and so on,   remove nan valu. \n",
                "# example: tmp_ave = np.mean(tmp_array[~np.isnan(tmp_array)]) or tmp_ave = np.nanmean(tmp_array)\n",
                "\n",
                "rc0 = rean.load_rc_tif(rot_tr[0])\n",
                "rcp120 = rean.load_rc_tif(rot_tr[1])\n",
                "rcm120 = rean.load_rc_tif(rot_tr[2])"
            ]
        },
        {
            "cell_type": "code",
            "execution_count": null,
            "metadata": {},
            "outputs": [],
            "source": [
                "# rc plot\n",
                "mlplt.rc_2plots(rc0, title='$\\psi$ = 0$^{\\circ}$', peak_range=(-0.3,0.3), width_range=(0,0.05), save=False)\n",
                "mlplt.rc_3plots(rc0, title='$\\psi$ = 0$^{\\circ}$',peak_range=(-0.3,0.3), width_range=(0,0.05), save=False)"
            ]
        },
        {
            "cell_type": "code",
            "execution_count": null,
            "metadata": {},
            "outputs": [],
            "source": []
        },
        {
            "cell_type": "code",
            "execution_count": null,
            "metadata": {},
            "outputs": [],
            "source": [
                "# radial quality evaluation\n",
                "from qfit import radial_average as rda"
            ]
        },
        {
            "cell_type": "code",
            "execution_count": null,
            "metadata": {},
            "outputs": [],
            "source": [
                "# find center and radius using height image of RC\n",
                "# create binary image astype uint8 \n",
                "b_h_img = rda.image2uint8(rc0['h'])\n",
                "\n",
                "# 4inch area size-> 2500000, 2inch -> 60000, at pixel size 0.05mm\n",
                "hc_lists, hr_lists, ha_lists = rda.find_circle(b_image=b_h_img, area_size=4000)"
            ]
        },
        {
            "cell_type": "code",
            "execution_count": null,
            "metadata": {},
            "outputs": [],
            "source": [
                "# phi=0\n",
                "r0_dsi, r0_dri = rda.calc_circle_radius_ave(org_image=rc0['wt'], center=hc_lists[0], max_radius=hr_lists[0], \n",
                "                                            dr=100, pixel_size=0.05, fig_show=True, ylim=(0.01,0.02))"
            ]
        },
        {
            "cell_type": "code",
            "execution_count": null,
            "metadata": {},
            "outputs": [],
            "source": [
                "# b_h_img = rda.image2uint8(rc0['h'])\n",
                "# hc_lists, hr_lists, ha_lists = rda.find_circle(b_image=b_h_img, area_size=400000)"
            ]
        },
        {
            "cell_type": "code",
            "execution_count": null,
            "metadata": {},
            "outputs": [],
            "source": [
                "rm120dsi, rm120dri = rda.calc_circle_radius_ave(org_image=rcm120['wt'], center=hc_lists[0], max_radius=hr_lists[0], \n",
                "                                                dr=100, pixel_size=0.05, fig_show=True, ylim=(0.01,0.02))"
            ]
        },
        {
            "cell_type": "code",
            "execution_count": null,
            "metadata": {},
            "outputs": [],
            "source": [
                "\n",
                "rp120dsi, rp120dri = rda.calc_circle_radius_ave(org_image=rcp120['wt'], center=hc_lists[0], max_radius=hr_lists[0], \n",
                "                                                dr=100, pixel_size=0.05, fig_show=True, ylim=(0.01,0.02))\n",
                "                                              "
            ]
        },
        {
            "cell_type": "code",
            "execution_count": null,
            "metadata": {},
            "outputs": [],
            "source": [
                "rda.r_dr_3data_plot(r0_dsi,r0_dri,rp120dsi,rp120dri,rm120dsi,rm120dri,\n",
                "                    ylim=(0.01,0.02),\n",
                "                    title='r $\\cdot$ $\\Delta r$',\n",
                "                    save=True)"
            ]
        },
        {
            "cell_type": "code",
            "execution_count": null,
            "metadata": {},
            "outputs": [],
            "source": [
                "# Limit estimation"
            ]
        },
        {
            "cell_type": "code",
            "execution_count": null,
            "metadata": {},
            "outputs": [],
            "source": [
                "from qfit import d_limit as dlim\n",
                "gan_param = {\"ramda\":1.284, 'd':1.004, 'dp':0.05,'L':500, 'drr':2.8e-04}\n",
                "\n",
                "dlim.limit_estimate(**gan_param)"
            ]
        },
        {
            "cell_type": "code",
            "execution_count": null,
            "metadata": {},
            "outputs": [],
            "source": [
                "dlim.dd_calc_4plot(data=rc0, title='$\\Delta$ d/d at $\\psi=0$', dd_xange=(0,2.5e-4),**gan_param)\n",
                "dlim.dpsi_calc_4plot(data=rc0, title='$\\Delta \\Psi$ at $\\psi=0$',dp_xange=(0,6e-3),**gan_param )\n",
                "dlim.limt_calc_4plot(data=rc0, title='Limit $\\Delta$d/d $\\cdot$ $\\Delta\\Psi$ at $\\psi=0$',dd_xange=(0,2.5e-4),dp_xange=(0,6e-3),**gan_param,save=True)"
            ]
        },
        {
            "cell_type": "code",
            "execution_count": null,
            "metadata": {},
            "outputs": [],
            "source": [
                "### Q replot"
            ]
        },
        {
            "cell_type": "code",
            "execution_count": null,
            "metadata": {},
            "outputs": [],
            "source": [
                "# q_data =[r'gauss_fit\\2R_0m120',r'gauss_fit\\2R_0p120',r'gauss_fit\\2R_pm120']\n",
                "q_data =[r'',r'',r'']"
            ]
        },
        {
            "cell_type": "code",
            "execution_count": null,
            "metadata": {},
            "outputs": [],
            "source": [
                "# load q \n",
                "# dict : {'x':qx, 'y':qy, 'z':qz, 'xy':qxy, 'ang':q_ang, 'angxy':q_angxy, 'r':q_r}\n",
                "# q_ang: polar codinate angle between Z and r  -> theta\n",
                "# q_angxy: polar codinate angle between x and y -> phi\n",
                "\n",
                "q_0p = rean.load_q_tif(q_data[0])\n",
                "q_0m = rean.load_q_tif(q_data[1])\n",
                "q_pm = rean.load_q_tif(q_data[2])"
            ]
        },
        {
            "cell_type": "code",
            "execution_count": null,
            "metadata": {},
            "outputs": [],
            "source": [
                "mlplt.qc_4plots(q_0m, title='q$_x$, q$_y$ at (0,m120)',qx_range=(-0.04,0.04),qy_range=(-0.04,0.04))\n",
                "mlplt.qc_4plots(q_0p, title='q$_x$, q$_y$ at (0,p120)',qx_range=(-0.04,0.04),qy_range=(-0.04,0.04))\n",
                "mlplt.qc_4plots(q_pm, title='q$_x$, q$_y$ at (p120,m120)',qx_range=(-0.04,0.04),qy_range=(-0.04,0.04))"
            ]
        },
        {
            "cell_type": "code",
            "execution_count": null,
            "metadata": {},
            "outputs": [],
            "source": [
                "mlplt.qp3_4plots(q_0m, title='$q_r$,$q_{\\\\theta}$,$q_{\\phi}$', step=150)"
            ]
        },
        {
            "cell_type": "code",
            "execution_count": null,
            "metadata": {},
            "outputs": [],
            "source": []
        },
        {
            "cell_type": "code",
            "execution_count": null,
            "metadata": {},
            "outputs": [],
            "source": [
                "# average q\n",
                "ave_q= rean.average_3q(q_0p, q_0m, q_pm)\n"
            ]
        },
        {
            "cell_type": "code",
            "execution_count": null,
            "metadata": {},
            "outputs": [],
            "source": [
                "mlplt.qc_4plots(ave_q, title='q$_x$, q$_y$ average',qx_range=(-0.03,0.03),qy_range=(-0.03,0.03),save=True)\n",
                "mlplt.qp3_4plots(ave_q, title='$q_r$,$q_{\\\\theta}$,$q_{\\phi}$ average', step=150,save=True)"
            ]
        },
        {
            "cell_type": "code",
            "execution_count": null,
            "metadata": {},
            "outputs": [],
            "source": [
                "mlplt.qp_4plots(ave_q, title='$q_{\\\\theta}$$q_{\\phi}$')\n",
                "mlplt.qp3_3plots(ave_q, title='$q_{\\phi}$,$q_{xy}$, q arrow', step=150)"
            ]
        },
        {
            "cell_type": "code",
            "execution_count": null,
            "metadata": {},
            "outputs": [],
            "source": [
                "mlplt.qcp_12plots(ave_q, title='q average', step=100)"
            ]
        },
        {
            "cell_type": "code",
            "execution_count": null,
            "metadata": {},
            "outputs": [],
            "source": []
        },
        {
            "cell_type": "code",
            "execution_count": null,
            "metadata": {},
            "outputs": [],
            "source": [
                "# histgram\n",
                "# The data has nan values.\n",
                "\n",
                "xyzdata =rc0['wt']\n",
                "xyzdata = xyzdata.reshape(-1)\n",
                "xyzdata = xyzdata[~np.isnan(xyzdata)]\n",
                "bins = np.linspace(0, 0.1, 300)\n",
                "\n",
                "print(np.mean(xyzdata))\n",
                "print(np.max(xyzdata))\n",
                "\n",
                "print(np.min(xyzdata))\n",
                "print(np.percentile(xyzdata,50))\n",
                "print(np.percentile(xyzdata,60))\n",
                "rdata, rbins = np.histogram(xyzdata, bins=bins)\n",
                "\n",
                "# print(rdata,rbins)\n",
                "plt.plot(rbins[:-1],rdata)\n",
                "print(rbins[np.argmax(rdata)])\n",
                "print()"
            ]
        },
        {
            "cell_type": "code",
            "execution_count": null,
            "metadata": {},
            "outputs": [],
            "source": [
                "qxyz =ave_q['ang']\n",
                "qxyz = qxyz.reshape(-1)\n",
                "qxyz = qxyz[~np.isnan(qxyz)]\n",
                "bins = np.linspace(0, 0.3, 100)\n",
                "qrdata, qrbins = np.histogram(qxyz, bins=bins)\n",
                "\n",
                "# print(rdata,rbins)\n",
                "plt.plot(qrbins[:-1],qrdata)\n",
                "print(rbins[np.argmax(qrdata)])\n",
                "print(np.max(qrdata))\n",
                "\n",
                "print(np.mean(qxyz))\n",
                "print(np.min(qxyz))\n",
                "print(np.percentile(qxyz,50))\n",
                "print(np.percentile(qxyz,60))"
            ]
        }
    ],
    "metadata": {
        "kernelspec": {
            "display_name": "xrdt",
            "language": "python",
            "name": "xrdt"
        },
        "language_info": {
            "codemirror_mode": {
                "name": "ipython",
                "version": 3
            },
            "file_extension": ".py",
            "mimetype": "text/x-python",
            "name": "python",
            "nbconvert_exporter": "python",
            "pygments_lexer": "ipython3",
            "version": "3.8.12"
        },
        "orig_nbformat": 4,
        "vscode": {
            "interpreter": {
                "hash": "b66da06cecefeedcb0375b3971526220e456f8615e08c7fc3d59ab7f27c37be5"
            }
        }
    },
    "nbformat": 4,
    "nbformat_minor": 2
}
