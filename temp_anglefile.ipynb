{
    "cells": [
        {
            "cell_type": "markdown",
            "metadata": {},
            "source": [
                "## Creating an Angle file\n",
                "\n",
                "(1) Set target folder\n",
                "\n",
                "(2) Check folder and existance of an angle file\n",
                "\n",
                "(3) Make angle list (units arcsec)\n",
                "\n",
                "(4) Make angle file\n"
            ]
        },
        {
            "cell_type": "code",
            "execution_count": null,
            "metadata": {},
            "outputs": [],
            "source": [
                "from qfit import make_angle_file as maf"
            ]
        },
        {
            "cell_type": "code",
            "execution_count": null,
            "metadata": {},
            "outputs": [],
            "source": [
                "# (1) Set target folder\n",
                "# g_0 = r'D:\\Xraydata\\g_n_0'\n",
                "# g_120 = r'D:\\Xraydata\\g_n__120'\n",
                "g_0 = ''\n",
                "g_120 = ''"
            ]
        },
        {
            "cell_type": "markdown",
            "metadata": {},
            "source": [
                "#### 0deg"
            ]
        },
        {
            "cell_type": "code",
            "execution_count": null,
            "metadata": {},
            "outputs": [],
            "source": [
                "# (2) Check holder and existance of angle file\n",
                "# 0 deg\n",
                "_ = maf.check_holder(data_path=g_0)"
            ]
        },
        {
            "cell_type": "code",
            "execution_count": null,
            "metadata": {},
            "outputs": [],
            "source": [
                "# (3) Make angle list\n",
                "# 0 angle\n",
                "# change start,step and length values\n",
                "\n",
                "# data -> 29 files, dark data file -> 1\n",
                "# angle range: 900 -> 1600 units:arcsec, step:25\n",
                "\n",
                "angle_g_0 = maf.make_angle_list(start=900, step=25, length=29)"
            ]
        },
        {
            "cell_type": "code",
            "execution_count": null,
            "metadata": {},
            "outputs": [],
            "source": [
                "# (4) Make angle file\n",
                "maf.make_anglefile(data_path=g_0, angle_list=angle_g_0)"
            ]
        },
        {
            "cell_type": "code",
            "execution_count": null,
            "metadata": {},
            "outputs": [],
            "source": [
                "# (5) Check angle file contens\n",
                "maf.anglefile_info(data_path=g_0)"
            ]
        },
        {
            "cell_type": "markdown",
            "metadata": {},
            "source": [
                "#### 120deg"
            ]
        },
        {
            "cell_type": "code",
            "execution_count": null,
            "metadata": {},
            "outputs": [],
            "source": [
                "# (2) Check holder and existance of angle file\n",
                "# 120 deg\n",
                "_ = maf.check_holder(data_path=g_120)"
            ]
        },
        {
            "cell_type": "code",
            "execution_count": null,
            "metadata": {},
            "outputs": [],
            "source": [
                "# (3) Make angle list\n",
                "# change start,step and length values\n",
                "angle_g_120 = maf.make_angle_list(start=2200, step=25, length=29)"
            ]
        },
        {
            "cell_type": "code",
            "execution_count": null,
            "metadata": {},
            "outputs": [],
            "source": [
                "# (4) Make angle file\n",
                "maf.make_anglefile(data_path=g_120, angle_list=angle_g_120)"
            ]
        },
        {
            "cell_type": "code",
            "execution_count": null,
            "metadata": {},
            "outputs": [],
            "source": [
                "#  (5) Check angle file contens\n",
                "maf.anglefile_info(data_path=g_120)"
            ]
        }
    ],
    "metadata": {
        "interpreter": {
            "hash": "a318020f789dd1a0d4ba8c59c88435135ab6caaf39898c9b2d35efe6e1e208e9"
        },
        "kernelspec": {
            "display_name": "Python 3.7.1 64-bit ('base': conda)",
            "name": "python3"
        },
        "language_info": {
            "codemirror_mode": {
                "name": "ipython",
                "version": 3
            },
            "file_extension": ".py",
            "mimetype": "text/x-python",
            "name": "python",
            "nbconvert_exporter": "python",
            "pygments_lexer": "ipython3",
            "version": "3.8.12"
        },
        "orig_nbformat": 4
    },
    "nbformat": 4,
    "nbformat_minor": 2
}
