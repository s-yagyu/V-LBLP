{
    "cells": [
        {
            "cell_type": "markdown",
            "metadata": {},
            "source": [
                "### Image Editor Application Launch Template\n",
                "\n",
                "- Image Editor\n",
                "- Trim Editor\n"
            ]
        },
        {
            "cell_type": "code",
            "execution_count": 1,
            "metadata": {},
            "outputs": [],
            "source": [
                "from qfit import image_treat as imt"
            ]
        },
        {
            "cell_type": "markdown",
            "metadata": {},
            "source": [
                "#### Image Editor"
            ]
        },
        {
            "cell_type": "code",
            "execution_count": 2,
            "metadata": {},
            "outputs": [],
            "source": [
                "#  Wait a few seconds (10s - 60s) and a new GUI window will appear.\n",
                "\n",
                "_= imt.img_editor_process()\n",
                "\n",
                "# output: A new folder is created in the same directory as the loaded data folder.\n",
                "# The name of the new holder is 'rot_ '+ the name of the loaded folder."
            ]
        },
        {
            "cell_type": "markdown",
            "metadata": {},
            "source": [
                "#### Trim Editor"
            ]
        },
        {
            "cell_type": "code",
            "execution_count": null,
            "metadata": {},
            "outputs": [],
            "source": [
                "# Folder name or file name\n",
                "target = r'rot_hw_220111_151046' # folder path. ex rot_hw_220111_151046\n",
                "\n",
                "# trim size 2inch: wh=1100, 4inch: wh=2000\n",
                "wh= 1100\n",
                "\n",
                "# NX, NY: Original size Defaults NX=2368, NY=2240. (NX->width, NY->height)\n",
                "\n",
                "out_folder = imt.gui2trim(target, wh=wh, NX=2368, NY=2240, time_out=120)\n",
                "\n",
                "print(out_folder)\n",
                "\n",
                "# output: A new folder is created in the same directory as the loaded data folder.\n",
                "# The name of the new holder is 'trim_ '+ the name of the loaded folder."
            ]
        },
        {
            "cell_type": "markdown",
            "metadata": {},
            "source": [
                "#### Quick manual"
            ]
        },
        {
            "cell_type": "markdown",
            "metadata": {},
            "source": [
                "##### Rotating image using Image_editor\n",
                "\n",
                "<img src=\"./docs/figs_affin/img_edit.PNG\" style=\"zoom:50%;\">\n",
                "\n",
                "(1) Upper left window: Select data folder (psi=0)\n",
                "\n",
                "(2) Set the reading step (1: all files, default 16)\n",
                "\n",
                "(3) Middle left window: Select data folder (e.g. psi=120)\n",
                "\n",
                "(4) Set the reading step (1: All files, default 16)\n",
                "\n",
                "(5) If you need to flip the x-direction, set the scale original x to -1.\n",
                "\n",
                "(6) Change the x,y, rotation, and scale parameters.\n",
                "\n",
                "(7) Export from the File menu.\n",
                "\n",
                "(8) Quit from the File menu.\n",
                "\n",
                "Note:\n",
                "\n",
                "Check the origin of the detector. \n",
                "\n",
                "In some cases,the image may be inverted. If it is inverted, set 'Scale Original' to '-'.\n"
            ]
        },
        {
            "cell_type": "markdown",
            "metadata": {},
            "source": [
                "#### Trim to a square (if 4inch then skip)\n",
                "\n",
                "Original size in our case is (2368:w,2240:h).\n",
                "\n",
                "Recommended trim size : 2inch  (1100,1100). \n",
                "\n",
                "<img src=\"./docs/figs/Triming1.JPG\" style=\"zoom:25%;\">\n",
                "\n",
                "<img src=\"./docs/figs/triming2.JPG\" style=\"zoom:25%;\">\n",
                "\n",
                "- Wait a few seconds and a new GUI window will appear.\n",
                "- Select an area. Right click the mouse\n",
                "- Decide and exit. press ESC key"
            ]
        }
    ],
    "metadata": {
        "interpreter": {
            "hash": "a318020f789dd1a0d4ba8c59c88435135ab6caaf39898c9b2d35efe6e1e208e9"
        },
        "kernelspec": {
            "display_name": "Python 3.7.1 64-bit ('base': conda)",
            "name": "python3"
        },
        "language_info": {
            "codemirror_mode": {
                "name": "ipython",
                "version": 3
            },
            "file_extension": ".py",
            "mimetype": "text/x-python",
            "name": "python",
            "nbconvert_exporter": "python",
            "pygments_lexer": "ipython3",
            "version": "3.8.12"
        },
        "orig_nbformat": 4
    },
    "nbformat": 4,
    "nbformat_minor": 2
}
