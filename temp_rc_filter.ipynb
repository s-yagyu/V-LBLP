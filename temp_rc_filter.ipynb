{
 "cells": [
  {
   "cell_type": "markdown",
   "metadata": {},
   "source": [
    "#### RC plot and estimation of filter and PMAX"
   ]
  },
  {
   "cell_type": "code",
   "execution_count": null,
   "metadata": {},
   "outputs": [],
   "source": [
    "from qfit import data_check as dtc\n",
    "import matplotlib.pyplot as plt\n",
    "import numpy as np"
   ]
  },
  {
   "cell_type": "code",
   "execution_count": null,
   "metadata": {},
   "outputs": [],
   "source": [
    "import warnings\n",
    "warnings.simplefilter('ignore')\n",
    "# warnings.resetwarnings()\n",
    "# warnings.simplefilter('ignore', FutureWarning)\n",
    "%load_ext autoreload\n",
    "%autoreload 2"
   ]
  },
  {
   "cell_type": "code",
   "execution_count": null,
   "metadata": {},
   "outputs": [],
   "source": [
    "# file_path=r\"D:\\XrayDataset\\GaN_n1_4_0\"\n",
    "\n",
    "file_path=r\"\"\n",
    "cdata = dtc.CheckData(file_path)\n",
    "# print(cdata.data.shape)"
   ]
  },
  {
   "cell_type": "code",
   "execution_count": null,
   "metadata": {},
   "outputs": [],
   "source": [
    "# show the RC plot at any positon(x,y)\n",
    "print('Intensity statistic at selected location')\n",
    "for i in [(a,a) for a in range(0, 2100, 100)]:\n",
    "    cdata.check_data(*i,True)"
   ]
  },
  {
   "cell_type": "code",
   "execution_count": null,
   "metadata": {},
   "outputs": [],
   "source": [
    "cdata_dict= cdata.check_data_hist(plot=True)"
   ]
  },
  {
   "cell_type": "code",
   "execution_count": null,
   "metadata": {},
   "outputs": [],
   "source": [
    "# select condition : filter > 30 and PMAX < 30\n",
    "select = np.where((cdata_dict['max_min'] > 30) & (cdata_dict['max_median'] < 30))\n",
    "print(len(select[0]))"
   ]
  },
  {
   "cell_type": "code",
   "execution_count": null,
   "metadata": {},
   "outputs": [],
   "source": [
    "print('filter < 30, PMAX < 30')\n",
    "print(len(select[0]))\n",
    "for i in np.array(cdata_dict['position'])[select].tolist():\n",
    "    \n",
    "    cdata.check_data(*i,True)"
   ]
  }
 ],
 "metadata": {
  "kernelspec": {
   "display_name": "Python 3.7.1 ('base')",
   "language": "python",
   "name": "python3"
  },
  "language_info": {
   "codemirror_mode": {
    "name": "ipython",
    "version": 3
   },
   "file_extension": ".py",
   "mimetype": "text/x-python",
   "name": "python",
   "nbconvert_exporter": "python",
   "pygments_lexer": "ipython3",
   "version": "3.7.1"
  },
  "orig_nbformat": 4,
  "vscode": {
   "interpreter": {
    "hash": "b66da06cecefeedcb0375b3971526220e456f8615e08c7fc3d59ab7f27c37be5"
   }
  }
 },
 "nbformat": 4,
 "nbformat_minor": 2
}
