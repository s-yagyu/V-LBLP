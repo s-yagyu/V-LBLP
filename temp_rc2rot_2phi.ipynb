{
    "cells": [
        {
            "cell_type": "markdown",
            "metadata": {},
            "source": [
                "##  rc2rot  RC and q calculation (2 direction (psi) data) \n",
                "\n",
                "Method A(RC2rot): RC -> trim -> rotation \n",
                "\n",
                "psi = 0, 120 (-120) or 0, 90 (-90)\n",
                "\n",
                "(1) Check the angle file\n",
                "\n",
                "(2) Rocking curve (RC) \n",
                "\n",
                "- HW fitting angle = 0, 120\n",
                "\n",
                "- gauss fitting angle = 0, 120\n",
                "\n",
                "Note: The fitting time depends on the capability of your PC.\n",
                "\n",
                "(3) Image trimming\n",
                "\n",
                "(4) Prepare the rotating data using image_editor\n",
                "\n",
                "(5) Calculate q\n",
                "\n",
                "(6) re-plot and re-analysis \n"
            ]
        },
        {
            "cell_type": "code",
            "execution_count": null,
            "metadata": {},
            "outputs": [],
            "source": [
                "# from pathlib import Path\n",
                "\n",
                "# import matplotlib.pyplot as plt\n",
                "# import mpl_toolkits.axes_grid1\n",
                "# from mpl_toolkits.mplot3d import Axes3D\n",
                "\n",
                "# import numpy as np\n",
                "# import pandas as pd\n",
                "# from PIL import Image"
            ]
        },
        {
            "cell_type": "code",
            "execution_count": null,
            "metadata": {},
            "outputs": [],
            "source": [
                "from qfit import make_angle_file as maf\n",
                "from qfit import fit_q\n",
                "from qfit import re_analysis as rean\n",
                "from qfit import re_plot as replt\n",
                "from qfit import multiplot as mlplt\n",
                "from qfit import image_treat as imt\n",
                "from qfit import file_folder_trans as fft\n",
                "\n",
                "# Detector size\n",
                "NX=2368\n",
                "NY=2240"
            ]
        },
        {
            "cell_type": "code",
            "execution_count": null,
            "metadata": {},
            "outputs": [],
            "source": [
                "import warnings\n",
                "warnings.simplefilter('ignore')\n",
                "# warnings.resetwarnings()\n",
                "# warnings.simplefilter('ignore', FutureWarning)\n",
                "%load_ext autoreload\n",
                "%autoreload 2"
            ]
        },
        {
            "cell_type": "code",
            "execution_count": null,
            "metadata": {},
            "outputs": [],
            "source": [
                "# Set target folder path\n",
                "# g_0 = r'C:\\Users\\USER\\Desktop\\XRTD\\2_inch_0'\n",
                "# g_120 = r'C:\\Users\\USER\\Desktop\\XRTD\\2_inch_120'\n",
                "\n",
                "g_0 = r\"\"\n",
                "g_120 = r\"\""
            ]
        },
        {
            "cell_type": "markdown",
            "metadata": {},
            "source": [
                "### Check angle file"
            ]
        },
        {
            "cell_type": "code",
            "execution_count": null,
            "metadata": {},
            "outputs": [],
            "source": [
                "# Check if it contains tif data, angle.text, and dark data.\n",
                "# psi=0\n",
                "_ = maf.check_holder(data_path=g_0)\n",
                "\n",
                "# psi=120\n",
                "_ = maf.check_holder(data_path=g_120)\n",
                "\n",
                "# If the angle file does not exist, go back to creating the angle file. -> temp_anglefile.ipynb"
            ]
        },
        {
            "cell_type": "code",
            "execution_count": null,
            "metadata": {},
            "outputs": [],
            "source": [
                "# If the angle file exists, check the angle file\n",
                "maf.anglefile_info(data_path=g_0)\n",
                "print('-'*5)\n",
                "maf.anglefile_info(data_path=g_120)"
            ]
        },
        {
            "cell_type": "markdown",
            "metadata": {},
            "source": [
                "### RC calculation"
            ]
        },
        {
            "cell_type": "code",
            "execution_count": null,
            "metadata": {},
            "outputs": [],
            "source": [
                "# RC hw fitting\n",
                "\n",
                "# core: Use multi-process PC cores. Attention memory size.\n",
                "\n",
                "# filter: Filter parameters are set to exclude noise level signals from the analysis. \n",
                "# It is only analyzed if the difference between the maximum and minimum RC intensities is greater than the filter value. \n",
                "# If it is not included in the analysis, enter the value of Nan as the analysis value.\n",
                "\n",
                "# method: hw (full width half maxima) \n",
                "\n",
                "cores = 6\n",
                "t_file = g_0\n",
                "t_folder,_ = fit_q.fit_analysis(target_file=t_file, filter=30, method='hw', comment='0data', core=cores)\n",
                "print('')\n",
                "\n",
                "c_file = g_120\n",
                "c_folder,_ = fit_q.fit_analysis(target_file=c_file, filter=30, method='hw', comment='120data', core=cores)\n",
                "print('')\n",
                "\n",
                "\n",
                "# RC gauss fitting\n",
                "\n",
                "# pmax: In addition to the filter condition, \n",
                "# if the condition with low distribution intensity (maximum intensity> median intensity + PMAX) is not satisfied,\n",
                "# it is excluded from the analysis. If it is not analyzed, or if the fitting fails, the value of Nan is entered.\n",
                "\n",
                "# method: gaussian \n",
                "\n",
                "# t_file = g_0\n",
                "# t_folder = fit_q.fit_analysis(target_file=t_file, filter=30, pmax=30, method='gaussian', comment='0data', core=cores)\n",
                "# print('')\n",
                "\n",
                "# c_file = g_120\n",
                "# c_folder = fit_q.fit_analysis(target_file=c_file, filter=30, pmax=30, method='gaussian', comment='120data', core=cores)\n",
                "# print('')\n"
            ]
        },
        {
            "cell_type": "code",
            "execution_count": null,
            "metadata": {},
            "outputs": [],
            "source": [
                "# Check results\n",
                "rc0 = rean.load_rc_tif(t_folder)\n",
                "mlplt.rc_12plots(rc0, title='$\\psi$=0')\n",
                "\n",
                "rc120 = rean.load_rc_tif(c_folder)\n",
                "mlplt.rc_12plots(rc120, title='$\\psi$=120')"
            ]
        },
        {
            "cell_type": "markdown",
            "metadata": {},
            "source": [
                "### Trimming\n",
                "\n",
                "<img src=\"./docs/figs/triming1.JPG\" style=\"zoom:25%;\">\n",
                "<img src=\"./docs/figs/triming2.JPG\" style=\"zoom:25%;\">\n",
                "\n",
                "- Wait a few seconds and a new GUI window will appear.\n",
                "- Area select: Right-click \n",
                "- Decide and quit: Press 'ESC' key"
            ]
        },
        {
            "cell_type": "code",
            "execution_count": null,
            "metadata": {},
            "outputs": [],
            "source": [
                "# psi=0\n",
                "# 2 inch: wh(width,height)=1100, 4 inch: wh=2150, M :wh=500\n",
                "#  Wait a few seconds and a new GUI window will appear.\n",
                "wh4 = 2150\n",
                "wh2 = 1100\n",
                "whm = 500\n",
                "wh_set = wh2\n",
                "tr_t_folder = imt.gui2trim(t_folder, wh=wh_set, NX=NX, NY=NY, time_out=120)"
            ]
        },
        {
            "cell_type": "code",
            "execution_count": null,
            "metadata": {},
            "outputs": [],
            "source": [
                "# psi=120\n",
                "tr_c_folder=imt.gui2trim(c_folder, wh=wh_set, NX=NX, NY=NY, time_out=120)"
            ]
        },
        {
            "cell_type": "code",
            "execution_count": null,
            "metadata": {},
            "outputs": [],
            "source": [
                "# Check results\n",
                "rc0 = rean.load_rc_tif(tr_t_folder)\n",
                "mlplt.rc_12plots(rc0, title='$\\psi$=0')\n",
                "\n",
                "rc120 = rean.load_rc_tif(tr_c_folder)\n",
                "mlplt.rc_12plots(rc120, title='$\\psi$=120')"
            ]
        },
        {
            "cell_type": "markdown",
            "metadata": {},
            "source": [
                "### Rotating image using Image_editor\n",
                "\n",
                "<img src=\"./docs/figs_affin/img_edit.PNG\" style=\"zoom:40%;\">\n",
                "\n",
                "(1) Upper left window: Select data folder (psi=0)\n",
                "\n",
                "(2) Set the reading step (1: all files, default 16)\n",
                "\n",
                "(3) Middle left window: Select data folder (e.g. psi=120)\n",
                "\n",
                "(4) Set the reading step (1: All files, default 16)\n",
                "\n",
                "(5) If you need to flip the x-direction, set the scale original x to -1.\n",
                "\n",
                "(6) Change the x,y, rotation, and scale parameters.\n",
                "\n",
                "(7) Export from the File menu.\n",
                "\n",
                "(8) Quit from the File menu.\n",
                "\n"
            ]
        },
        {
            "cell_type": "code",
            "execution_count": null,
            "metadata": {},
            "outputs": [],
            "source": [
                "#  Wait a few seconds and a new GUI window will appear.\n",
                "outfolderlist,_ = imt.img_editor_process()\n",
                "print(outfolderlist)\n",
                "\n",
                "# out put folder name :rot_ + 'load folder name' ex: rot_tr_hw_220208_132247\n",
                "# if missing outfolderlist, input the folder name.\n",
                "# outfolderlist = ['','']"
            ]
        },
        {
            "cell_type": "code",
            "execution_count": null,
            "metadata": {},
            "outputs": [],
            "source": [
                "# Check results\n",
                "rc0 = rean.load_rc_tif(outfolderlist[0])\n",
                "mlplt.rc_12plots(rc0, title='$\\psi$=0')\n",
                "\n",
                "rc120 = rean.load_rc_tif(outfolderlist[1])\n",
                "mlplt.rc_12plots(rc120, title='$\\psi$=120')"
            ]
        },
        {
            "cell_type": "markdown",
            "metadata": {},
            "source": [
                "### h Calculation (Q calculation)"
            ]
        },
        {
            "cell_type": "code",
            "execution_count": null,
            "metadata": {},
            "outputs": [],
            "source": [
                "# Set the data folder after rotation.\n",
                "\n",
                "# fr0=r'C:\\Users\\USER\\Desktop\\XRTD\\xrdt\\tr_hw_211226_215327'\n",
                "# fr120=r'C:\\Users\\USER\\Desktop\\XRTD\\xrdt\\tr_hw_211226_215523'\n",
                "\n",
                "fr0 = outfolderlist[0]\n",
                "fr120 = outfolderlist[1]\n",
                "\n",
                "print(fr0,fr120)"
            ]
        },
        {
            "cell_type": "code",
            "execution_count": null,
            "metadata": {},
            "outputs": [],
            "source": [
                "# convert tif to npy\n",
                "\n",
                "r0 = fft.conv_tif2npy(file_dir=fr0)\n",
                "r120 = fft.conv_tif2npy(file_dir=fr120)\n",
                "\n",
                "# fft.fd_tif2fd_npy(file_dir=fr0)\n",
                "# fft.fd_tif2fd_npy(file_dir=fr120)\n",
                "\n",
                "# r0=fft.folder_file_list(fr0,look_for='npy')\n",
                "# r120=fft.folder_file_list(fr120,look_for='npy')\n",
                "\n",
                "print('psi=0')\n",
                "print(r0)\n",
                "\n",
                "print('psi=120')\n",
                "print(r120)"
            ]
        },
        {
            "cell_type": "code",
            "execution_count": null,
            "metadata": {},
            "outputs": [],
            "source": [
                "# The '_c.npy' file is used to calculate q.\n",
                "\n",
                "target_t_ = r0[0]\n",
                "target_c_ = r120[0]\n",
                "\n",
                "# set output folder name\n",
                "out_file_ = '2R_0120'\n",
                "# phi=0\n",
                "set_angle_t = 0 \n",
                "# phi=120\n",
                "set_angle_c = 120\n",
                "\n",
                "# If it is trimmed, change NX, NY.\n",
                "# original NX=2368, NY=2240, \n",
                "out_q_folder = fit_q.q_analysis_2R(target_t=target_t_, target_c=target_c_, out_file=out_file_, \n",
                "                                    angle_t=set_angle_t, angle_c=set_angle_c, \n",
                "                                    q=6.258 ,NX=wh_set, NY=wh_set)"
            ]
        },
        {
            "cell_type": "code",
            "execution_count": null,
            "metadata": {},
            "outputs": [],
            "source": [
                "# Check results\n",
                "q_0120 = rean.load_q_tif(out_q_folder)\n",
                "mlplt.qcp_12plots(q_0120,title='q (0,120)',step=50)\n",
                "mlplt.qp3_4plots(q_0120, title='q polar',step=50)\n",
                "mlplt.qp3_3plots(q_0120, title='q polar analysis',step=50)"
            ]
        }
    ],
    "metadata": {
        "interpreter": {
            "hash": "3b0d15cd8506428a70b92b6a60573de4f3e211b4b2fdec093e11b5b85ba76e50"
        },
        "kernelspec": {
            "display_name": "Python 3.8.12 ('xrdt')",
            "language": "python",
            "name": "python3"
        },
        "language_info": {
            "codemirror_mode": {
                "name": "ipython",
                "version": 3
            },
            "file_extension": ".py",
            "mimetype": "text/x-python",
            "name": "python",
            "nbconvert_exporter": "python",
            "pygments_lexer": "ipython3",
            "version": "3.8.12"
        },
        "orig_nbformat": 4
    },
    "nbformat": 4,
    "nbformat_minor": 2
}
